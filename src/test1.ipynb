{
 "cells": [
  {
   "cell_type": "code",
   "execution_count": 20,
   "id": "d70c3c9c",
   "metadata": {},
   "outputs": [],
   "source": [
    "import torch\n",
    "import torch.nn as nn\n",
    "import torch.optim as optim\n",
    "import torch.nn.functional as F\n",
    "import matplotlib.pyplot as plt\n",
    "import numpy as np\n"
   ]
  },
  {
   "cell_type": "code",
   "execution_count": 52,
   "id": "ac924ca5",
   "metadata": {},
   "outputs": [],
   "source": [
    "# Classification Neural Network\n",
    "class ClassificationNet(nn.Module):\n",
    "    def __init__(self, input_size, hidden_size, num_classes):\n",
    "        super(ClassificationNet, self).__init__()\n",
    "        self.fc1 = nn.Linear(input_size, hidden_size)\n",
    "        self.fc2 = nn.Linear(hidden_size, hidden_size)\n",
    "        self.fc3 = nn.Linear(hidden_size, num_classes)\n",
    "        self.dropout = nn.Dropout(0.2)\n",
    "        \n",
    "    def forward(self, x):\n",
    "        x = F.relu(self.fc1(x))\n",
    "        x = self.dropout(x)\n",
    "        x = F.relu(self.fc2(x))\n",
    "        x = self.dropout(x)\n",
    "        x = self.fc3(x)  # No softmax here - CrossEntropyLoss includes it\n",
    "        return x\n"
   ]
  },
  {
   "cell_type": "code",
   "execution_count": 53,
   "id": "ec9b1d03",
   "metadata": {},
   "outputs": [],
   "source": [
    "# Generate classification dataset (2D circular patterns)\n",
    "torch.manual_seed(42)\n",
    "n_samples = 10\n",
    "n_classes = 3\n"
   ]
  },
  {
   "cell_type": "code",
   "execution_count": 54,
   "id": "0f4d1501",
   "metadata": {},
   "outputs": [
    {
     "name": "stdout",
     "output_type": "stream",
     "text": [
      "Classification dataset - X: torch.Size([9, 2]), y: torch.Size([9])\n",
      "Classes: tensor([0, 1, 2])\n"
     ]
    }
   ],
   "source": [
    "# Create 3 clusters\n",
    "centers = torch.tensor([[2, 2], [-2, -2], [2, -2]], dtype=torch.float32)\n",
    "X_class = []\n",
    "y_class = []\n",
    "\n",
    "for i in range(n_classes):\n",
    "    # Generate points around each center\n",
    "    cluster_size = n_samples // n_classes\n",
    "    cluster_X = centers[i] + 0.8 * torch.randn(cluster_size, 2)\n",
    "    cluster_y = torch.full((cluster_size,), i, dtype=torch.long)\n",
    "    \n",
    "    X_class.append(cluster_X)\n",
    "    y_class.append(cluster_y)\n",
    "\n",
    "X_class = torch.cat(X_class, dim=0)\n",
    "y_class = torch.cat(y_class, dim=0)\n",
    "\n",
    "print(f\"Classification dataset - X: {X_class.shape}, y: {y_class.shape}\")\n",
    "print(f\"Classes: {torch.unique(y_class)}\")"
   ]
  },
  {
   "cell_type": "code",
   "execution_count": 60,
   "id": "d6e699e9",
   "metadata": {},
   "outputs": [
    {
     "name": "stdout",
     "output_type": "stream",
     "text": [
      "X_class: tensor([[ 2.2694,  2.1030],\n",
      "        [ 2.1876,  2.1843],\n",
      "        [ 1.1017,  1.8509],\n",
      "        [-0.2334, -2.5104],\n",
      "        [-1.6307, -1.7861],\n",
      "        [-1.5721, -1.3525],\n",
      "        [ 2.8882, -3.3518],\n",
      "        [ 1.2088, -1.2336],\n",
      "        [ 3.0577, -1.3462]])\n",
      "y_class: tensor([0, 0, 0, 1, 1, 1, 2, 2, 2])\n"
     ]
    }
   ],
   "source": [
    "print(f'X_class: {X_class}')\n",
    "print(f'y_class: {y_class}')"
   ]
  },
  {
   "cell_type": "code",
   "execution_count": 55,
   "id": "871968a9",
   "metadata": {},
   "outputs": [],
   "source": [
    "# Split data\n",
    "train_size = int(0.8 * len(X_class))\n",
    "X_train_class = X_class[:train_size]\n",
    "y_train_class = y_class[:train_size]\n",
    "X_test_class = X_class[train_size:]\n",
    "y_test_class = y_class[train_size:]\n"
   ]
  },
  {
   "cell_type": "code",
   "execution_count": 56,
   "id": "e0b4db3e",
   "metadata": {},
   "outputs": [
    {
     "data": {
      "image/png": "[encoded data removed]",
      "text/plain": [
       "<Figure size 1000x400 with 1 Axes>"
      ]
     },
     "metadata": {},
     "output_type": "display_data"
    }
   ],
   "source": [
    "# Visualize the dataset\n",
    "plt.figure(figsize=(10, 4))\n",
    "\n",
    "plt.subplot(1, 2, 1)\n",
    "colors = ['red', 'blue', 'green']\n",
    "for i in range(n_classes):\n",
    "    mask = y_class == i\n",
    "    plt.scatter(X_class[mask, 0], X_class[mask, 1], c=colors[i], label=f'Class {i}', alpha=0.6)\n",
    "plt.xlabel('Feature 1')\n",
    "plt.ylabel('Feature 2')\n",
    "plt.title('Classification Dataset')\n",
    "plt.legend()\n",
    "plt.grid(True)\n"
   ]
  },
  {
   "cell_type": "code",
   "execution_count": 61,
   "id": "925362aa",
   "metadata": {},
   "outputs": [],
   "source": [
    "# Train classification model\n",
    "clf_model = ClassificationNet(input_size=2, hidden_size=32, num_classes=3)\n",
    "clf_criterion = nn.CrossEntropyLoss()  # For multi-class classification\n",
    "clf_optimizer = optim.Adam(clf_model.parameters(), lr=0.01)\n"
   ]
  },
  {
   "cell_type": "code",
   "execution_count": 63,
   "id": "13e49b36",
   "metadata": {},
   "outputs": [
    {
     "name": "stdout",
     "output_type": "stream",
     "text": [
      "inputs: tensor([[ 2.2694,  2.1030],\n",
      "        [ 2.1876,  2.1843],\n",
      "        [ 1.1017,  1.8509],\n",
      "        [-0.2334, -2.5104],\n",
      "        [-1.6307, -1.7861],\n",
      "        [-1.5721, -1.3525],\n",
      "        [ 2.8882, -3.3518]])\n",
      "outputs: tensor([[-0.0323, -0.0016,  0.2237],\n",
      "        [ 0.1825,  0.3353,  0.4668],\n",
      "        [ 0.0189, -0.0646,  0.1631],\n",
      "        [-0.0183, -0.1149,  0.4007],\n",
      "        [ 0.1105, -0.0400,  0.2684],\n",
      "        [ 0.1144, -0.0482,  0.2305],\n",
      "        [ 0.1245, -0.2186,  0.1216]], grad_fn=<AddmmBackward0>)\n",
      "train_loss: 1.2020434141159058\n"
     ]
    }
   ],
   "source": [
    "epoch = 0\n",
    "\n",
    "# Training\n",
    "clf_model.train()\n",
    "train_outputs = clf_model(X_train_class)\n",
    "train_loss = clf_criterion(train_outputs, y_train_class)\n",
    "\n",
    "print(f'inputs: {X_train_class}')\n",
    "print(f'outputs: {train_outputs}')\n",
    "print(f'train_loss: {train_loss.item()}')"
   ]
  },
  {
   "cell_type": "code",
   "execution_count": 64,
   "id": "a6f43f9c",
   "metadata": {},
   "outputs": [],
   "source": [
    "\n",
    "clf_optimizer.zero_grad()\n",
    "train_loss.backward()\n",
    "clf_optimizer.step()\n"
   ]
  },
  {
   "cell_type": "code",
   "execution_count": 71,
   "id": "b94da75f",
   "metadata": {},
   "outputs": [
    {
     "name": "stdout",
     "output_type": "stream",
     "text": [
      "Training predictions: tensor([2, 2, 2, 2, 2, 2, 0])\n",
      "True labels: tensor([0, 0, 0, 1, 1, 1, 2])\n",
      "Training Accuracy: 0.00%\n"
     ]
    }
   ],
   "source": [
    "clf_model.eval()\n",
    "\n",
    "# Training accuracy\n",
    "train_pred = torch.argmax(train_outputs, dim=1)\n",
    "print(f'Training predictions: {train_pred}')\n",
    "print(f'True labels: {y_train_class}')\n",
    "train_accuracy = (train_pred == y_train_class).float().mean()\n",
    "print(f'Training Accuracy: {train_accuracy.item() * 100:.2f}%')\n",
    "\n"
   ]
  },
  {
   "cell_type": "code",
   "execution_count": null,
   "id": "57633ab5",
   "metadata": {},
   "outputs": [],
   "source": [
    "\n",
    "\n",
    "train_accuracies.append(train_acc.item())\n",
    "\n",
    "# Test accuracy\n",
    "test_outputs = clf_model(X_test_class)\n",
    "test_pred = torch.argmax(test_outputs, dim=1)\n",
    "test_acc = (test_pred == y_test_class).float().mean()\n",
    "test_accuracies.append(test_acc.item())\n"
   ]
  },
  {
   "cell_type": "code",
   "execution_count": null,
   "id": "57459d91",
   "metadata": {},
   "outputs": [],
   "source": []
  },
  {
   "cell_type": "code",
   "execution_count": null,
   "id": "583758be",
   "metadata": {},
   "outputs": [],
   "source": []
  },
  {
   "cell_type": "code",
   "execution_count": 21,
   "id": "238d1868",
   "metadata": {},
   "outputs": [
    {
     "name": "stdout",
     "output_type": "stream",
     "text": [
      "ImprovedNet(\n",
      "  (fc1): Linear(in_features=10, out_features=64, bias=True)\n",
      "  (fc2): Linear(in_features=64, out_features=64, bias=True)\n",
      "  (fc3): Linear(in_features=64, out_features=1, bias=True)\n",
      "  (dropout): Dropout(p=0.2, inplace=False)\n",
      "  (bn1): BatchNorm1d(64, eps=1e-05, momentum=0.1, affine=True, track_running_stats=True)\n",
      "  (bn2): BatchNorm1d(64, eps=1e-05, momentum=0.1, affine=True, track_running_stats=True)\n",
      ")\n",
      "\n",
      "Total parameters: 5185\n",
      "Trainable parameters: 5185\n",
      "\n",
      "Input shape: torch.Size([32, 10])\n",
      "Output shape: torch.Size([32, 1])\n"
     ]
    }
   ],
   "source": [
    "class ImprovedNet(nn.Module):\n",
    "    def __init__(self, input_size, hidden_size, output_size, dropout_rate=0.2):\n",
    "        super(ImprovedNet, self).__init__()\n",
    "        \n",
    "        # Define layers\n",
    "        self.fc1 = nn.Linear(input_size, hidden_size)\n",
    "        self.fc2 = nn.Linear(hidden_size, hidden_size)\n",
    "        self.fc3 = nn.Linear(hidden_size, output_size)\n",
    "        \n",
    "        # Dropout for regularization\n",
    "        self.dropout = nn.Dropout(dropout_rate)\n",
    "        \n",
    "        # Batch normalization\n",
    "        self.bn1 = nn.BatchNorm1d(hidden_size)\n",
    "        self.bn2 = nn.BatchNorm1d(hidden_size)\n",
    "        \n",
    "    def forward(self, x):\n",
    "        # First layer with batch norm and dropout\n",
    "        x = self.fc1(x)\n",
    "        x = self.bn1(x)\n",
    "        x = F.relu(x)\n",
    "        x = self.dropout(x)\n",
    "        \n",
    "        # Second layer with batch norm and dropout\n",
    "        x = self.fc2(x)\n",
    "        x = self.bn2(x)\n",
    "        x = F.relu(x)\n",
    "        x = self.dropout(x)\n",
    "        \n",
    "        # Output layer (no activation for regression, or add softmax for classification)\n",
    "        x = self.fc3(x)\n",
    "        return x\n",
    "\n",
    "# Create the network\n",
    "model = ImprovedNet(input_size=10, hidden_size=64, output_size=1)\n",
    "print(model)\n",
    "\n",
    "# Count parameters\n",
    "total_params = sum(p.numel() for p in model.parameters())\n",
    "trainable_params = sum(p.numel() for p in model.parameters() if p.requires_grad)\n",
    "\n",
    "print(f\"\\nTotal parameters: {total_params}\")\n",
    "print(f\"Trainable parameters: {trainable_params}\")\n",
    "\n",
    "# Test with sample data\n",
    "sample_input = torch.randn(32, 10)  # Batch of 32 samples, 10 features each\n",
    "output = model(sample_input)\n",
    "print(f\"\\nInput shape: {sample_input.shape}\")\n",
    "print(f\"Output shape: {output.shape}\")"
   ]
  },
  {
   "cell_type": "code",
   "execution_count": 23,
   "id": "d418e07c",
   "metadata": {},
   "outputs": [
    {
     "name": "stdout",
     "output_type": "stream",
     "text": [
      "Dataset shapes - X: torch.Size([1000, 2]), y: torch.Size([1000, 1])\n",
      "Train set - X: torch.Size([800, 2]), y: torch.Size([800, 1])\n",
      "Test set - X: torch.Size([200, 2]), y: torch.Size([200, 1])\n",
      "\n",
      "Model: ImprovedNet(\n",
      "  (fc1): Linear(in_features=2, out_features=32, bias=True)\n",
      "  (fc2): Linear(in_features=32, out_features=32, bias=True)\n",
      "  (fc3): Linear(in_features=32, out_features=1, bias=True)\n",
      "  (dropout): Dropout(p=0.1, inplace=False)\n",
      "  (bn1): BatchNorm1d(32, eps=1e-05, momentum=0.1, affine=True, track_running_stats=True)\n",
      "  (bn2): BatchNorm1d(32, eps=1e-05, momentum=0.1, affine=True, track_running_stats=True)\n",
      ")\n",
      "Loss function: MSELoss()\n",
      "Optimizer: Adam (\n",
      "Parameter Group 0\n",
      "    amsgrad: False\n",
      "    betas: (0.9, 0.999)\n",
      "    capturable: False\n",
      "    decoupled_weight_decay: False\n",
      "    differentiable: False\n",
      "    eps: 1e-08\n",
      "    foreach: None\n",
      "    fused: None\n",
      "    lr: 0.01\n",
      "    maximize: False\n",
      "    weight_decay: 0\n",
      ")\n"
     ]
    }
   ],
   "source": [
    "# Generate synthetic dataset for regression\n",
    "torch.manual_seed(42)  # For reproducibility\n",
    "\n",
    "# Create a non-linear function: y = sin(x1) + cos(x2) + 0.1*noise\n",
    "n_samples = 1000\n",
    "n_features = 2\n",
    "\n",
    "X = torch.randn(n_samples, n_features)\n",
    "y = torch.sin(X[:, 0]) + torch.cos(X[:, 1]) + 0.1 * torch.randn(n_samples)\n",
    "y = y.unsqueeze(1)  # Make it a column vector\n",
    "\n",
    "print(f\"Dataset shapes - X: {X.shape}, y: {y.shape}\")\n",
    "\n",
    "# Split into train/test\n",
    "train_size = int(0.8 * n_samples)\n",
    "X_train, X_test = X[:train_size], X[train_size:]\n",
    "y_train, y_test = y[:train_size], y[train_size:]\n",
    "\n",
    "print(f\"Train set - X: {X_train.shape}, y: {y_train.shape}\")\n",
    "print(f\"Test set - X: {X_test.shape}, y: {y_test.shape}\")\n",
    "\n",
    "# Create model, loss function, and optimizer\n",
    "model = ImprovedNet(input_size=2, hidden_size=32, output_size=1, dropout_rate=0.1)\n",
    "criterion = nn.MSELoss()  # Mean Squared Error for regression\n",
    "optimizer = optim.Adam(model.parameters(), lr=0.01)\n",
    "\n",
    "print(f\"\\nModel: {model}\")\n",
    "print(f\"Loss function: {criterion}\")\n",
    "print(f\"Optimizer: {optimizer}\")\n"
   ]
  },
  {
   "cell_type": "code",
   "execution_count": 30,
   "id": "3df5fee5",
   "metadata": {},
   "outputs": [
    {
     "name": "stdout",
     "output_type": "stream",
     "text": [
      "\n",
      "Starting training...\n",
      "Epoch [20/300], Train Loss: 0.0359, Test Loss: 0.0434\n",
      "Epoch [40/300], Train Loss: 0.0345, Test Loss: 0.0413\n",
      "Epoch [60/300], Train Loss: 0.0350, Test Loss: 0.0414\n",
      "Epoch [80/300], Train Loss: 0.0347, Test Loss: 0.0345\n",
      "Epoch [100/300], Train Loss: 0.0279, Test Loss: 0.0332\n",
      "Epoch [120/300], Train Loss: 0.0271, Test Loss: 0.0312\n",
      "Epoch [140/300], Train Loss: 0.0271, Test Loss: 0.0282\n",
      "Epoch [160/300], Train Loss: 0.0248, Test Loss: 0.0250\n",
      "Epoch [180/300], Train Loss: 0.0274, Test Loss: 0.0228\n",
      "Epoch [200/300], Train Loss: 0.0279, Test Loss: 0.0225\n",
      "Epoch [220/300], Train Loss: 0.0280, Test Loss: 0.0218\n",
      "Epoch [240/300], Train Loss: 0.0286, Test Loss: 0.0211\n",
      "Epoch [260/300], Train Loss: 0.0230, Test Loss: 0.0206\n",
      "Epoch [280/300], Train Loss: 0.0225, Test Loss: 0.0235\n",
      "Epoch [300/300], Train Loss: 0.0228, Test Loss: 0.0230\n",
      "Training completed!\n"
     ]
    }
   ],
   "source": [
    "\n",
    "# Training loop\n",
    "num_epochs = 300\n",
    "train_losses = []\n",
    "test_losses = []\n",
    "\n",
    "print(\"\\nStarting training...\")\n",
    "\n",
    "for epoch in range(num_epochs):\n",
    "    # Training phase\n",
    "    model.train()  # Set model to training mode\n",
    "    \n",
    "    # Forward pass\n",
    "    train_pred = model(X_train)\n",
    "    train_loss = criterion(train_pred, y_train)\n",
    "    \n",
    "    # Backward pass\n",
    "    optimizer.zero_grad()  # Clear gradients\n",
    "    train_loss.backward()  # Compute gradients\n",
    "    optimizer.step()       # Update parameters\n",
    "    \n",
    "    # Evaluation phase\n",
    "    model.eval()  # Set model to evaluation mode\n",
    "    with torch.no_grad():  # Disable gradient computation for efficiency\n",
    "        test_pred = model(X_test)\n",
    "        test_loss = criterion(test_pred, y_test)\n",
    "    \n",
    "    # Store losses\n",
    "    train_losses.append(train_loss.item())\n",
    "    test_losses.append(test_loss.item())\n",
    "    \n",
    "    # Print progress\n",
    "    if (epoch + 1) % 20 == 0:\n",
    "        print(f'Epoch [{epoch+1}/{num_epochs}], Train Loss: {train_loss.item():.4f}, Test Loss: {test_loss.item():.4f}')\n",
    "\n",
    "print(\"Training completed!\")"
   ]
  },
  {
   "cell_type": "code",
   "execution_count": 31,
   "id": "3559286f",
   "metadata": {},
   "outputs": [
    {
     "data": {
      "image/png": "[encoded data removed]",
      "text/plain": [
       "<Figure size 1000x500 with 1 Axes>"
      ]
     },
     "metadata": {},
     "output_type": "display_data"
    }
   ],
   "source": [
    "# Plot  a non-linear function: y = sin(x1) + cos(x2) + 0.1*noise\n",
    "\n",
    "x1 = np.linspace(-3, 3, 100)\n",
    "x2 = 0\n",
    "y = np.sin(x1) + np.cos(x2) + 0.1 * np.random.randn(100)\n",
    "y_pred = model(torch.tensor(np.column_stack((x1, np.full_like(x1, x2))), dtype=torch.float32)).detach().numpy()\n",
    "plt.figure(figsize=(10, 5))\n",
    "plt.scatter(x1, y, label='Data', color='blue', alpha=0.5)\n",
    "plt.plot(x1, y_pred, label='Model Prediction', color='red')\n",
    "\n",
    "plt.title('Non-linear Function with Noise')\n",
    "plt.xlabel('x1')\n",
    "plt.ylabel('y')\n",
    "plt.legend()\n",
    "plt.show()"
   ]
  },
  {
   "cell_type": "code",
   "execution_count": 2,
   "id": "cb5a7c46",
   "metadata": {},
   "outputs": [
    {
     "name": "stdout",
     "output_type": "stream",
     "text": [
      "torch1: tensor([[0., 0., 0.],\n",
      "        [0., 0., 0.]])\n"
     ]
    }
   ],
   "source": [
    "torch1 = torch.zeros(2, 3)\n",
    "print(f'torch1: {torch1}')"
   ]
  },
  {
   "cell_type": "code",
   "execution_count": 3,
   "id": "f66f8ca1",
   "metadata": {},
   "outputs": [
    {
     "name": "stdout",
     "output_type": "stream",
     "text": [
      "t1: tensor([1, 2, 3])\n"
     ]
    }
   ],
   "source": [
    "t1= torch.tensor([1,2,3])\n",
    "print(f't1: {t1}')"
   ]
  },
  {
   "cell_type": "code",
   "execution_count": 4,
   "id": "f824698b",
   "metadata": {},
   "outputs": [
    {
     "name": "stdout",
     "output_type": "stream",
     "text": [
      "t2: 2\n"
     ]
    }
   ],
   "source": [
    "t2 = torch.tensor(2)\n",
    "print(f't2: {t2}')"
   ]
  },
  {
   "cell_type": "code",
   "execution_count": 5,
   "id": "075786cb",
   "metadata": {},
   "outputs": [
    {
     "name": "stdout",
     "output_type": "stream",
     "text": [
      "t3: tensor([2])\n"
     ]
    }
   ],
   "source": [
    "t3 = torch.tensor([2])\n",
    "print(f't3: {t3}')"
   ]
  },
  {
   "cell_type": "code",
   "execution_count": 6,
   "id": "0612ddd0",
   "metadata": {},
   "outputs": [
    {
     "name": "stdout",
     "output_type": "stream",
     "text": [
      "x = 2.0\n",
      "y = x^2 + 3x + 1 = 11.0\n"
     ]
    }
   ],
   "source": [
    "\n",
    "# Create a tensor with gradient tracking\n",
    "x = torch.tensor(2.0, requires_grad=True)\n",
    "print(f\"x = {x}\")\n",
    "\n",
    "# Define a function y = x^2 + 3x + 1\n",
    "y = x**2 + 3*x + 1\n",
    "print(f\"y = x^2 + 3x + 1 = {y}\")\n"
   ]
  },
  {
   "cell_type": "code",
   "execution_count": 7,
   "id": "235ca5b1",
   "metadata": {},
   "outputs": [
    {
     "data": {
      "text/plain": [
       "torch.Tensor"
      ]
     },
     "execution_count": 7,
     "metadata": {},
     "output_type": "execute_result"
    }
   ],
   "source": [
    "type(x)"
   ]
  },
  {
   "cell_type": "code",
   "execution_count": 8,
   "id": "3ce7758e",
   "metadata": {},
   "outputs": [
    {
     "data": {
      "text/plain": [
       "torch.Tensor"
      ]
     },
     "execution_count": 8,
     "metadata": {},
     "output_type": "execute_result"
    }
   ],
   "source": [
    "type(y)"
   ]
  },
  {
   "cell_type": "code",
   "execution_count": 9,
   "id": "21bc7d9b",
   "metadata": {},
   "outputs": [
    {
     "data": {
      "text/plain": [
       "torch.Size([])"
      ]
     },
     "execution_count": 9,
     "metadata": {},
     "output_type": "execute_result"
    }
   ],
   "source": [
    "x.shape\n",
    "y.shape"
   ]
  },
  {
   "cell_type": "code",
   "execution_count": 10,
   "id": "c6c24d82",
   "metadata": {},
   "outputs": [
    {
     "name": "stdout",
     "output_type": "stream",
     "text": [
      "dy/dx at x=2: 7.0\n"
     ]
    }
   ],
   "source": [
    "y.backward()\n",
    "print(f\"dy/dx at x=2: {x.grad}\")  # Should print"
   ]
  },
  {
   "cell_type": "code",
   "execution_count": 11,
   "id": "9d89d232",
   "metadata": {},
   "outputs": [],
   "source": [
    "x_vec = torch.tensor([1.0, 2.0, 3.0], requires_grad=True)\n",
    "y_vec = torch.sum(x_vec**2)"
   ]
  },
  {
   "cell_type": "code",
   "execution_count": 12,
   "id": "18c3e61c",
   "metadata": {},
   "outputs": [
    {
     "name": "stdout",
     "output_type": "stream",
     "text": [
      "x_vec: tensor([1., 2., 3.], requires_grad=True)\n",
      "y_vec: 14.0\n"
     ]
    }
   ],
   "source": [
    "print(f\"x_vec: {x_vec}\")\n",
    "print(f\"y_vec: {y_vec}\")"
   ]
  },
  {
   "cell_type": "code",
   "execution_count": 13,
   "id": "7c2ef4eb",
   "metadata": {},
   "outputs": [
    {
     "name": "stdout",
     "output_type": "stream",
     "text": [
      "dy/dx at x_vec: tensor([2., 4., 6.])\n"
     ]
    }
   ],
   "source": [
    "y_vec.backward()\n",
    "print(f\"dy/dx at x_vec: {x_vec.grad}\")  # Should print tensor([2.0, 4.0, 6.0])"
   ]
  },
  {
   "cell_type": "code",
   "execution_count": 14,
   "id": "a375665a",
   "metadata": {},
   "outputs": [
    {
     "name": "stdout",
     "output_type": "stream",
     "text": [
      "x: tensor([-5.,  0.,  5.], requires_grad=True)\n"
     ]
    }
   ],
   "source": [
    "x = torch.linspace(-5, 5, 3, requires_grad=True)\n",
    "print(f\"x: {x}\")"
   ]
  },
  {
   "cell_type": "code",
   "execution_count": 15,
   "id": "35a016e8",
   "metadata": {},
   "outputs": [
    {
     "name": "stdout",
     "output_type": "stream",
     "text": [
      "Linear layer: Linear(in_features=3, out_features=2, bias=True)\n",
      "Weight: Parameter containing:\n",
      "tensor([[-0.1671,  0.2796, -0.4798],\n",
      "        [ 0.1619, -0.3819, -0.5399]], requires_grad=True)\n",
      "Bias: Parameter containing:\n",
      "tensor([-0.3221, -0.2793], requires_grad=True)\n"
     ]
    }
   ],
   "source": [
    "linear_layer = nn.Linear(3, 2)\n",
    "\n",
    "print(f\"Linear layer: {linear_layer}\")\n",
    "print(f\"Weight: {linear_layer.weight}\")  # [output_size, input_size]\n",
    "print(f\"Bias: {linear_layer.bias}\")      # [output_size]\n"
   ]
  },
  {
   "cell_type": "code",
   "execution_count": 16,
   "id": "44848b33",
   "metadata": {},
   "outputs": [
    {
     "name": "stdout",
     "output_type": "stream",
     "text": [
      "\n",
      "Input shape: torch.Size([4, 3])\n"
     ]
    }
   ],
   "source": [
    "# Sample input: batch_size=4, input_features=3\n",
    "sample_input = torch.randn(4, 3)\n",
    "print(f\"\\nInput shape: {sample_input.shape}\")\n"
   ]
  },
  {
   "cell_type": "code",
   "execution_count": 17,
   "id": "0eb96771",
   "metadata": {},
   "outputs": [
    {
     "data": {
      "text/plain": [
       "tensor([[ 0.4976,  0.3475, -0.3738],\n",
       "        [ 0.8813, -0.6790,  0.9571],\n",
       "        [ 1.0242, -1.6082,  1.1487],\n",
       "        [ 0.5238, -0.1320, -0.0873]])"
      ]
     },
     "execution_count": 17,
     "metadata": {},
     "output_type": "execute_result"
    }
   ],
   "source": [
    "sample_input"
   ]
  },
  {
   "cell_type": "code",
   "execution_count": 18,
   "id": "b5ff033c",
   "metadata": {},
   "outputs": [
    {
     "name": "stdout",
     "output_type": "stream",
     "text": [
      "Output shape: torch.Size([4, 2])\n",
      "Output:\n",
      "tensor([[-0.1287, -0.1297],\n",
      "        [-1.1185, -0.3940],\n",
      "        [-1.4941, -0.1195],\n",
      "        [-0.4047, -0.0970]], grad_fn=<AddmmBackward0>)\n"
     ]
    }
   ],
   "source": [
    "# Forward pass\n",
    "output = linear_layer(sample_input)\n",
    "print(f\"Output shape: {output.shape}\")\n",
    "print(f\"Output:\\n{output}\")\n"
   ]
  },
  {
   "cell_type": "code",
   "execution_count": 19,
   "id": "b3bef27d",
   "metadata": {},
   "outputs": [
    {
     "name": "stdout",
     "output_type": "stream",
     "text": [
      "\n",
      "Manual calculation (should match):\n",
      "Manual output:\n",
      "tensor([[-0.1287, -0.1297],\n",
      "        [-1.1185, -0.3940],\n",
      "        [-1.4941, -0.1195],\n",
      "        [-0.4047, -0.0970]], grad_fn=<AddBackward0>)\n",
      "Difference: 0.0\n"
     ]
    }
   ],
   "source": [
    "\n",
    "# The linear transformation is: output = input @ weight.T + bias\n",
    "print(f\"\\nManual calculation (should match):\")\n",
    "manual_output = sample_input @ linear_layer.weight.T + linear_layer.bias\n",
    "print(f\"Manual output:\\n{manual_output}\")\n",
    "print(f\"Difference: {torch.max(torch.abs(output - manual_output))}\")  # Should be very small"
   ]
  },
  {
   "cell_type": "code",
   "execution_count": null,
   "id": "535f19b5",
   "metadata": {},
   "outputs": [],
   "source": []
  }
 ],
 "metadata": {
  "kernelspec": {
   "display_name": ".venv",
   "language": "python",
   "name": "python3"
  },
  "language_info": {
   "codemirror_mode": {
    "name": "ipython",
    "version": 3
   },
   "file_extension": ".py",
   "mimetype": "text/x-python",
   "name": "python",
   "nbconvert_exporter": "python",
   "pygments_lexer": "ipython3",
   "version": "3.13.4"
  }
 },
 "nbformat": 4,
 "nbformat_minor": 5
}
